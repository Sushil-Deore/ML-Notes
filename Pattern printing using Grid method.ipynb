{
 "cells": [
  {
   "cell_type": "code",
   "execution_count": 8,
   "id": "motivated-consultation",
   "metadata": {},
   "outputs": [
    {
     "name": "stdout",
     "output_type": "stream",
     "text": [
      "6\n",
      "4\n",
      " 00 \n",
      "0  0\n",
      "0  0\n",
      "0000\n",
      "0  0\n",
      "0  0\n"
     ]
    }
   ],
   "source": [
    "a = int(input()) #6\n",
    "b = int(input()) #4\n",
    "\n",
    "for i in range(a):\n",
    "    for j in range(b):\n",
    "        if (i == 0 or i == 3) and (j != 0 and j != 3):\n",
    "            print('0', end = '')\n",
    "\n",
    "        elif (j == 0 or j == 3) and (i != 0):\n",
    "            print('0',end ='')\n",
    "\n",
    "        else:\n",
    "            print(end = ' ')\n",
    "\n",
    "    print()"
   ]
  },
  {
   "cell_type": "code",
   "execution_count": 9,
   "id": "determined-grade",
   "metadata": {},
   "outputs": [
    {
     "name": "stdout",
     "output_type": "stream",
     "text": [
      "5\n",
      "5 5 5 5 5 \n",
      "5 5 5 5 5 \n",
      "5 5 5 5 5 \n",
      "5 5 5 5 5 \n",
      "5 5 5 5 5 \n"
     ]
    }
   ],
   "source": [
    "n = int(input())\n",
    "\n",
    "for i in range(n):\n",
    "    print(f'{n} '* n)"
   ]
  },
  {
   "cell_type": "code",
   "execution_count": 10,
   "id": "wireless-reply",
   "metadata": {},
   "outputs": [
    {
     "name": "stdout",
     "output_type": "stream",
     "text": [
      "4\n",
      "A \n",
      "B B \n",
      "C C C \n",
      "D D D D \n"
     ]
    }
   ],
   "source": [
    "n = int(input())\n",
    "\n",
    "for i in range(n):\n",
    "    print(((chr(65+i) + ' ')*(i+1)))\n",
    "\n"
   ]
  },
  {
   "cell_type": "code",
   "execution_count": 11,
   "id": "skilled-absence",
   "metadata": {},
   "outputs": [
    {
     "name": "stdout",
     "output_type": "stream",
     "text": [
      "5\n",
      "* * * * * \n",
      "* * * * \n",
      "* * * \n",
      "* * \n",
      "* \n"
     ]
    }
   ],
   "source": [
    "n = int(input())\n",
    "\n",
    "for i in range(n):\n",
    "    print('* '* (n-i))"
   ]
  },
  {
   "cell_type": "code",
   "execution_count": 12,
   "id": "grateful-hollywood",
   "metadata": {},
   "outputs": [
    {
     "name": "stdout",
     "output_type": "stream",
     "text": [
      "5\n",
      "1 2 3 4 5 \n",
      "1 2 3 4 \n",
      "1 2 3 \n",
      "1 2 \n",
      "1 \n"
     ]
    }
   ],
   "source": [
    "n = int(input())\n",
    "\n",
    "for i in range(n):\n",
    "    for j in range(n-i):\n",
    "        print(str(j + 1) + ' ', end ='')\n",
    "    print()\n",
    "\n"
   ]
  },
  {
   "cell_type": "code",
   "execution_count": 13,
   "id": "terminal-rings",
   "metadata": {},
   "outputs": [
    {
     "name": "stdout",
     "output_type": "stream",
     "text": [
      "4\n",
      "A B C D \n",
      "A B C \n",
      "A B \n",
      "A \n"
     ]
    }
   ],
   "source": [
    "n = int(input())\n",
    "\n",
    "for i in range(n):\n",
    "    for j in range(n-i):\n",
    "        print(chr(65 + j), end = ' ')\n",
    "    print()\n",
    "\n"
   ]
  },
  {
   "cell_type": "code",
   "execution_count": 14,
   "id": "shared-victorian",
   "metadata": {},
   "outputs": [
    {
     "name": "stdout",
     "output_type": "stream",
     "text": [
      "4\n",
      "   1  \n",
      "  2 2  \n",
      " 3 3 3  \n",
      "4 4 4 4  \n"
     ]
    }
   ],
   "source": [
    "n = int(input())\n",
    "\n",
    "for i in range(n):\n",
    "    print(str(' ' * (n - i-1)) + (str(i+1) + ' ') * (i+1)  , end = ' ')\n",
    "    print()"
   ]
  },
  {
   "cell_type": "code",
   "execution_count": 15,
   "id": "industrial-invitation",
   "metadata": {},
   "outputs": [
    {
     "name": "stdout",
     "output_type": "stream",
     "text": [
      "5\n",
      "     E \n",
      "    D D \n",
      "   C C C \n",
      "  B B B B \n",
      " A A A A A \n"
     ]
    }
   ],
   "source": [
    "n = int(input()) \n",
    "\n",
    "for i in range(n):\n",
    "    print(' ' * (n-i-1), end = ' ')\n",
    "    for j in range(i + 1):\n",
    "        print(chr(65 + n - i- 1), end = ' ')\n",
    "    print()  \n",
    "\n",
    "\n"
   ]
  },
  {
   "cell_type": "code",
   "execution_count": 17,
   "id": "extensive-dallas",
   "metadata": {},
   "outputs": [
    {
     "name": "stdout",
     "output_type": "stream",
     "text": [
      "5\n",
      "     \n",
      "   *  \n",
      "  * *  \n",
      " * * *  \n",
      "* * * *  \n",
      " * * *  \n",
      "  * *  \n",
      "   *  \n",
      "     \n",
      "      \n"
     ]
    }
   ],
   "source": [
    "n = int(input())\n",
    "\n",
    "for i in range(n):\n",
    "    print(' '*(n-i-1) + '* '*(i), end = ' ')\n",
    "    print()\n",
    "\n",
    "for j in range(n):\n",
    "    print(' '*( j + 1) +'* '* (n-j-2), end =' ')\n",
    "    print()\n"
   ]
  },
  {
   "cell_type": "code",
   "execution_count": 18,
   "id": "million-medication",
   "metadata": {},
   "outputs": [
    {
     "name": "stdout",
     "output_type": "stream",
     "text": [
      "7\n",
      "       A  \n",
      "      B B  \n",
      "     C C C  \n",
      "    D D D D  \n",
      "   E E E E E  \n",
      "  F F F F F F  \n",
      " G G G G G G G  \n",
      "  F F F F F F  \n",
      "   E E E E E  \n",
      "    D D D D  \n",
      "     C C C  \n",
      "      B B  \n",
      "       A  \n"
     ]
    }
   ],
   "source": [
    "n = int(input())\n",
    "\n",
    "for i in range(n):\n",
    "    print(\" \"*(n-i) + (chr(65 + i) + ' ')*(i+1) , end = ' ')\n",
    "    print()\n",
    "for j in range(n-1):\n",
    "    print(' '*(j+2)+ (chr(65+n-j-2)+ ' ')*(n-j-1),end =' ')\n",
    "    print()"
   ]
  },
  {
   "cell_type": "code",
   "execution_count": 4,
   "id": "favorite-afghanistan",
   "metadata": {},
   "outputs": [
    {
     "name": "stdout",
     "output_type": "stream",
     "text": [
      "5\n",
      "A\n",
      "BB\n",
      "CCC\n",
      "DDDD\n",
      "EEEEE\n"
     ]
    }
   ],
   "source": [
    "n = int(input())\n",
    "\n",
    "for i in range(n):\n",
    "    print(chr(65 + i) * (i+1))"
   ]
  },
  {
   "cell_type": "code",
   "execution_count": 18,
   "id": "marked-peter",
   "metadata": {},
   "outputs": [
    {
     "name": "stdout",
     "output_type": "stream",
     "text": [
      "5\n",
      "     A  \n",
      "    B B  \n",
      "   C C C  \n",
      "  D D D D  \n",
      " E E E E E  \n"
     ]
    }
   ],
   "source": [
    "n = int(input())\n",
    "\n",
    "for i in range(n):\n",
    "    print(' '* (n-i) + (str(chr(65 + i))+' ') * (i+1), end = ' ')\n",
    "    print()"
   ]
  },
  {
   "cell_type": "code",
   "execution_count": 19,
   "id": "visible-territory",
   "metadata": {},
   "outputs": [
    {
     "name": "stdout",
     "output_type": "stream",
     "text": [
      "     A  \n",
      "    B B  \n",
      "   C C C  \n",
      "  D D D D  \n",
      " E E E E E  \n",
      "#\n"
     ]
    }
   ],
   "source": [
    "for i in range(n):\n",
    "    print(' '* (n-i) + (str(chr(65 + i))+' ') * (i+1), end = ' ')\n",
    "    print()\n",
    "    \n",
    "for j in range(n-i):\n",
    "    print('#')"
   ]
  },
  {
   "cell_type": "code",
   "execution_count": null,
   "id": "pharmaceutical-istanbul",
   "metadata": {},
   "outputs": [],
   "source": []
  }
 ],
 "metadata": {
  "kernelspec": {
   "display_name": "Python 3",
   "language": "python",
   "name": "python3"
  },
  "language_info": {
   "codemirror_mode": {
    "name": "ipython",
    "version": 3
   },
   "file_extension": ".py",
   "mimetype": "text/x-python",
   "name": "python",
   "nbconvert_exporter": "python",
   "pygments_lexer": "ipython3",
   "version": "3.7.10"
  }
 },
 "nbformat": 4,
 "nbformat_minor": 5
}
