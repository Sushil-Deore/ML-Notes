{
 "cells": [
  {
   "cell_type": "code",
   "execution_count": null,
   "id": "assisted-trailer",
   "metadata": {},
   "outputs": [],
   "source": [
    "What is binary classification?\n"
   ]
  },
  {
   "cell_type": "code",
   "execution_count": null,
   "id": "frank-dinner",
   "metadata": {},
   "outputs": [],
   "source": [
    "equation of sigmoid curve?\n"
   ]
  },
  {
   "cell_type": "code",
   "execution_count": null,
   "id": "determined-smile",
   "metadata": {},
   "outputs": [],
   "source": [
    "what is likelihood function?\n"
   ]
  },
  {
   "cell_type": "code",
   "execution_count": null,
   "id": "touched-advertiser",
   "metadata": {},
   "outputs": [],
   "source": [
    "how to find best fit in logistic regression? \n"
   ]
  },
  {
   "cell_type": "code",
   "execution_count": null,
   "id": "impressed-bleeding",
   "metadata": {},
   "outputs": [],
   "source": [
    "what is odds?\n"
   ]
  },
  {
   "cell_type": "code",
   "execution_count": null,
   "id": "unnecessary-thailand",
   "metadata": {},
   "outputs": [],
   "source": [
    "what is log of odds?\n"
   ]
  },
  {
   "cell_type": "code",
   "execution_count": null,
   "id": "sapphire-consumer",
   "metadata": {},
   "outputs": [],
   "source": [
    "why we use log odds?\n"
   ]
  },
  {
   "cell_type": "code",
   "execution_count": null,
   "id": "fabulous-communication",
   "metadata": {},
   "outputs": [],
   "source": [
    "what is confusion matrics?\n"
   ]
  },
  {
   "cell_type": "code",
   "execution_count": null,
   "id": "independent-contractor",
   "metadata": {},
   "outputs": [],
   "source": [
    "what is accuracy?\n"
   ]
  },
  {
   "cell_type": "code",
   "execution_count": null,
   "id": "imported-movement",
   "metadata": {},
   "outputs": [],
   "source": [
    "what is sensitivity?\n"
   ]
  },
  {
   "cell_type": "code",
   "execution_count": null,
   "id": "gentle-discovery",
   "metadata": {},
   "outputs": [],
   "source": [
    "what is specificity?\n"
   ]
  },
  {
   "cell_type": "code",
   "execution_count": null,
   "id": "usual-roommate",
   "metadata": {},
   "outputs": [],
   "source": [
    "Why we use ROC curve?\n"
   ]
  },
  {
   "cell_type": "code",
   "execution_count": null,
   "id": "liberal-interaction",
   "metadata": {},
   "outputs": [],
   "source": [
    "what is precision?\n"
   ]
  },
  {
   "cell_type": "code",
   "execution_count": null,
   "id": "placed-break",
   "metadata": {},
   "outputs": [],
   "source": [
    "what is recall?\n"
   ]
  },
  {
   "cell_type": "code",
   "execution_count": null,
   "id": "amazing-charleston",
   "metadata": {},
   "outputs": [],
   "source": [
    "what is segmentaion?\n"
   ]
  },
  {
   "cell_type": "code",
   "execution_count": null,
   "id": "scheduled-scottish",
   "metadata": {},
   "outputs": [],
   "source": [
    "what is weight of evidence(Woe) Transformation?\n"
   ]
  },
  {
   "cell_type": "code",
   "execution_count": null,
   "id": "trained-technology",
   "metadata": {},
   "outputs": [],
   "source": [
    "what is data clumping?\n"
   ]
  },
  {
   "cell_type": "code",
   "execution_count": null,
   "id": "legislative-moisture",
   "metadata": {},
   "outputs": [],
   "source": [
    "Information value?\n"
   ]
  },
  {
   "cell_type": "code",
   "execution_count": null,
   "id": "attached-converter",
   "metadata": {},
   "outputs": [],
   "source": [
    "what is in-sample validation?\n"
   ]
  },
  {
   "cell_type": "code",
   "execution_count": null,
   "id": "physical-jersey",
   "metadata": {},
   "outputs": [],
   "source": [
    "whta is out-time validation?\n"
   ]
  },
  {
   "cell_type": "code",
   "execution_count": null,
   "id": "equivalent-appeal",
   "metadata": {},
   "outputs": [],
   "source": [
    "what is K-fold cross validation?\n"
   ]
  },
  {
   "cell_type": "code",
   "execution_count": null,
   "id": "congressional-italy",
   "metadata": {},
   "outputs": [],
   "source": [
    "what is performance stability?\n"
   ]
  },
  {
   "cell_type": "code",
   "execution_count": null,
   "id": "fiscal-award",
   "metadata": {},
   "outputs": [],
   "source": [
    "What is variable stability?\n"
   ]
  },
  {
   "cell_type": "code",
   "execution_count": null,
   "id": "humanitarian-girlfriend",
   "metadata": {},
   "outputs": [],
   "source": [
    "what is variable transformation?\n"
   ]
  },
  {
   "cell_type": "code",
   "execution_count": null,
   "id": "warming-jacksonville",
   "metadata": {},
   "outputs": [],
   "source": [
    "explain dummy variable transformation\n"
   ]
  },
  {
   "cell_type": "code",
   "execution_count": null,
   "id": "animated-forest",
   "metadata": {},
   "outputs": [],
   "source": [
    "Continuous  variable transfomation?\n"
   ]
  },
  {
   "cell_type": "code",
   "execution_count": null,
   "id": "historic-committee",
   "metadata": {},
   "outputs": [],
   "source": [
    "Interaction variables?\n"
   ]
  },
  {
   "cell_type": "code",
   "execution_count": null,
   "id": "under-providence",
   "metadata": {},
   "outputs": [],
   "source": [
    "Splines\n"
   ]
  },
  {
   "cell_type": "code",
   "execution_count": null,
   "id": "anticipated-vienna",
   "metadata": {},
   "outputs": [],
   "source": [
    "mathematical transformation\n"
   ]
  },
  {
   "cell_type": "code",
   "execution_count": null,
   "id": "brazilian-louisiana",
   "metadata": {},
   "outputs": [],
   "source": [
    "Principal componet transformation\n"
   ]
  },
  {
   "cell_type": "code",
   "execution_count": null,
   "id": "impossible-forwarding",
   "metadata": {},
   "outputs": [],
   "source": [
    "maximum likelihood estimation\n"
   ]
  },
  {
   "cell_type": "code",
   "execution_count": null,
   "id": "funded-jefferson",
   "metadata": {},
   "outputs": [],
   "source": [
    "What is a logistic function? What is the range of values of a logistic function?\n"
   ]
  },
  {
   "cell_type": "code",
   "execution_count": null,
   "id": "funded-accent",
   "metadata": {},
   "outputs": [],
   "source": [
    "Why is logistic regression very popular/widely used?\n"
   ]
  },
  {
   "cell_type": "code",
   "execution_count": null,
   "id": "instrumental-shell",
   "metadata": {},
   "outputs": [],
   "source": [
    "What is the formula for the logistic regression function?\n"
   ]
  },
  {
   "cell_type": "code",
   "execution_count": null,
   "id": "mighty-breeding",
   "metadata": {},
   "outputs": [],
   "source": [
    "How can the probability of a logistic regression model be expressed as a conditional probability?\n"
   ]
  },
  {
   "cell_type": "code",
   "execution_count": null,
   "id": "complex-nothing",
   "metadata": {},
   "outputs": [],
   "source": [
    "Why can’t linear regression be used in place of logistic regression for binary classification?\n"
   ]
  },
  {
   "cell_type": "code",
   "execution_count": null,
   "id": "expressed-gilbert",
   "metadata": {},
   "outputs": [],
   "source": [
    "What is the likelihood function?\n"
   ]
  },
  {
   "cell_type": "code",
   "execution_count": null,
   "id": "colonial-subscriber",
   "metadata": {},
   "outputs": [],
   "source": [
    "What are the outputs of the logistic model and the logistic function?\n"
   ]
  },
  {
   "cell_type": "code",
   "execution_count": null,
   "id": "tamil-skirt",
   "metadata": {},
   "outputs": [],
   "source": [
    "How to interpret the results of a logistic regression model? Or, what are the meanings of the different betas in a logistic regression model?\n",
    "What is the formula for calculating odds ratio?\n",
    "What is the Maximum Likelihood Estimator (MLE)?\n",
    "What are the different methods of MLE and when is each method preferred?\n",
    "What are the advantages and disadvantages of conditional and unconditional methods of MLE?\n",
    "What is the output of a standard MLE program?\n",
    "Why can’t we use Mean Square Error (MSE) as a cost function for logistic regression?\n",
    "Why is accuracy not a good measure for classification problems?\n",
    "What is the importance of a baseline in a classification problem?\n",
    "What are false positives and false negatives?\n",
    "What are the true positive rate (TPR), true negative rate (TNR), false positive rate (FPR), and false negative rate (FNR)?\n",
    "What is F-measure?\n",
    "Explain the use of ROC curves and the AUC of an ROC Curve.\n",
    "How to choose a cutoff point in case of a logistic regression model?"
   ]
  },
  {
   "cell_type": "code",
   "execution_count": null,
   "id": "nonprofit-cincinnati",
   "metadata": {},
   "outputs": [],
   "source": []
  },
  {
   "cell_type": "code",
   "execution_count": null,
   "id": "coastal-wiring",
   "metadata": {},
   "outputs": [],
   "source": []
  },
  {
   "cell_type": "code",
   "execution_count": null,
   "id": "logical-authentication",
   "metadata": {},
   "outputs": [],
   "source": []
  },
  {
   "cell_type": "code",
   "execution_count": null,
   "id": "australian-grant",
   "metadata": {},
   "outputs": [],
   "source": []
  },
  {
   "cell_type": "code",
   "execution_count": null,
   "id": "technical-crack",
   "metadata": {},
   "outputs": [],
   "source": []
  },
  {
   "cell_type": "code",
   "execution_count": null,
   "id": "amino-patent",
   "metadata": {},
   "outputs": [],
   "source": []
  }
 ],
 "metadata": {
  "kernelspec": {
   "display_name": "Python 3",
   "language": "python",
   "name": "python3"
  },
  "language_info": {
   "codemirror_mode": {
    "name": "ipython",
    "version": 3
   },
   "file_extension": ".py",
   "mimetype": "text/x-python",
   "name": "python",
   "nbconvert_exporter": "python",
   "pygments_lexer": "ipython3",
   "version": "3.7.10"
  }
 },
 "nbformat": 4,
 "nbformat_minor": 5
}
